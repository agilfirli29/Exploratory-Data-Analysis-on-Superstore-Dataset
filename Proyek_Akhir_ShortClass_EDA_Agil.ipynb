{
  "nbformat": 4,
  "nbformat_minor": 0,
  "metadata": {
    "colab": {
      "provenance": []
    },
    "kernelspec": {
      "name": "python3",
      "display_name": "Python 3"
    },
    "language_info": {
      "name": "python"
    }
  },
  "cells": [
    {
      "cell_type": "markdown",
      "source": [
        "# Proyek Akhir\n",
        "\n",
        "Proyek akhir ini dirancang sebagai tugas individu di mana peserta akan menganalisis dataset yang telah diberikan. Dalam proyek ini, peserta akan menerapkan materi telah dipelajari untuk memahami pola dalam data dan menghasilkan insight yang bermanfaat.\n",
        "\n",
        "Hasil akhir dari proyek ini akan disusun dalam dua bentuk utama: notebook (Google Colab) yang berisi kode dan hasil analisis, serta slide presentasi (PPT) yang merangkum proses dan temuan utama. Kedua output ini akan menjadi bukti pemahaman peserta dalam mengolah data dan menyampaikan hasil analisis secara efektif."
      ],
      "metadata": {
        "id": "2SA1Ms1XpPK4"
      }
    },
    {
      "cell_type": "markdown",
      "source": [
        "#I. Panduan\n",
        "**Download dulu notebook ini dalam format .ipynb atau \"save a copy in drive\" kemudian kerjakan di google colab dan google drive masing-masing**\n",
        "\n",
        "1. Berdasarkan Dataset pada link yang diberikan pada PPT Briefing Project EDA, upload data studi kasus.\n",
        "2. Rancang Rumusan Permasalahan yang ingin ditemukan.\n",
        "3. Lakukan analisis statistik deksriptif untuk memperoleh insight awal mengenai data mentah mengenai seputar informasi data penjualan, pelanggan, dan produk.\n",
        "4. Lakukan data manipulation yang meliputi data cleaning dan data transformation. Tunjukkan transformasi yang dilakukan terhadap data berdasarkan materi yang telah dipelajari.\n",
        "5.  Visualisasi data dalam menemukan pola, tren, dan karakteristik terhadap data supermarket SuperStore."
      ],
      "metadata": {
        "id": "SA2OcK1dpYfk"
      }
    },
    {
      "cell_type": "code",
      "source": [
        "import pandas as pd\n",
        "import numpy as np\n",
        "import matplotlib.pyplot as plt\n",
        "import seaborn as sns"
      ],
      "metadata": {
        "id": "nVvSWl2N2vbE"
      },
      "execution_count": null,
      "outputs": []
    },
    {
      "cell_type": "markdown",
      "source": [
        "# Input Data"
      ],
      "metadata": {
        "id": "_NdDGQuxph2o"
      }
    },
    {
      "cell_type": "code",
      "execution_count": null,
      "metadata": {
        "colab": {
          "base_uri": "https://localhost:8080/",
          "height": 342
        },
        "id": "EUFXIxjRaxOz",
        "outputId": "3213b00c-3440-42d2-f343-81a6f4d51b92"
      },
      "outputs": [
        {
          "output_type": "execute_result",
          "data": {
            "text/plain": [
              "   row_id        order_id order_date  ship_date       ship_mode customer_id  \\\n",
              "0    4918  CA-2019-160304 2019-01-01 2019-01-07  Standard Class    BM-11575   \n",
              "1    4919  CA-2019-160304 2019-02-01 2019-01-07  Standard Class    BM-11575   \n",
              "2    4920  CA-2019-160304 2019-02-01 2019-01-07  Standard Class    BM-11575   \n",
              "3    3074  CA-2019-125206 2019-03-01 2019-01-05     First Class    LR-16915   \n",
              "4    8604  US-2019-116365 2019-03-01 2019-01-08  Standard Class    CA-12310   \n",
              "\n",
              "       customer_name    segment        country  address_city  ...   price  \\\n",
              "0      Brendan Murry  Corporate  United States  Gaithersburg  ...   73.94   \n",
              "1      Brendan Murry  Corporate  United States  Gaithersburg  ...   57.98   \n",
              "2      Brendan Murry  Corporate  United States  Gaithersburg  ...  115.99   \n",
              "3       Lena Radford   Consumer  United States   Los Angeles  ...   57.23   \n",
              "4  Christine Abelman  Corporate  United States   San Antonio  ...   15.04   \n",
              "\n",
              "  quantity   sales      cost   profit returns  payment_mode    year  month  \\\n",
              "0      1.0   73.94   45.6732  28.2668     0.0        Online  2019.0    1.0   \n",
              "1      3.0  173.94  135.6732  38.2668     0.0        Online  2019.0    2.0   \n",
              "2      2.0  231.98  164.7058  67.2742     0.0         Cards  2019.0    2.0   \n",
              "3      2.0  114.46   85.8450  28.6150     0.0        Online  2019.0    3.0   \n",
              "4      2.0   30.08   35.3440  -5.2640     0.0        Online  2019.0    3.0   \n",
              "\n",
              "   day_name  \n",
              "0   Tuesday  \n",
              "1    Friday  \n",
              "2    Friday  \n",
              "3    Friday  \n",
              "4    Friday  \n",
              "\n",
              "[5 rows x 26 columns]"
            ],
            "text/html": [
              "\n",
              "  <div id=\"df-38129fa3-3f1c-4721-b08a-813d0c1303b3\" class=\"colab-df-container\">\n",
              "    <div>\n",
              "<style scoped>\n",
              "    .dataframe tbody tr th:only-of-type {\n",
              "        vertical-align: middle;\n",
              "    }\n",
              "\n",
              "    .dataframe tbody tr th {\n",
              "        vertical-align: top;\n",
              "    }\n",
              "\n",
              "    .dataframe thead th {\n",
              "        text-align: right;\n",
              "    }\n",
              "</style>\n",
              "<table border=\"1\" class=\"dataframe\">\n",
              "  <thead>\n",
              "    <tr style=\"text-align: right;\">\n",
              "      <th></th>\n",
              "      <th>row_id</th>\n",
              "      <th>order_id</th>\n",
              "      <th>order_date</th>\n",
              "      <th>ship_date</th>\n",
              "      <th>ship_mode</th>\n",
              "      <th>customer_id</th>\n",
              "      <th>customer_name</th>\n",
              "      <th>segment</th>\n",
              "      <th>country</th>\n",
              "      <th>address_city</th>\n",
              "      <th>...</th>\n",
              "      <th>price</th>\n",
              "      <th>quantity</th>\n",
              "      <th>sales</th>\n",
              "      <th>cost</th>\n",
              "      <th>profit</th>\n",
              "      <th>returns</th>\n",
              "      <th>payment_mode</th>\n",
              "      <th>year</th>\n",
              "      <th>month</th>\n",
              "      <th>day_name</th>\n",
              "    </tr>\n",
              "  </thead>\n",
              "  <tbody>\n",
              "    <tr>\n",
              "      <th>0</th>\n",
              "      <td>4918</td>\n",
              "      <td>CA-2019-160304</td>\n",
              "      <td>2019-01-01</td>\n",
              "      <td>2019-01-07</td>\n",
              "      <td>Standard Class</td>\n",
              "      <td>BM-11575</td>\n",
              "      <td>Brendan Murry</td>\n",
              "      <td>Corporate</td>\n",
              "      <td>United States</td>\n",
              "      <td>Gaithersburg</td>\n",
              "      <td>...</td>\n",
              "      <td>73.94</td>\n",
              "      <td>1.0</td>\n",
              "      <td>73.94</td>\n",
              "      <td>45.6732</td>\n",
              "      <td>28.2668</td>\n",
              "      <td>0.0</td>\n",
              "      <td>Online</td>\n",
              "      <td>2019.0</td>\n",
              "      <td>1.0</td>\n",
              "      <td>Tuesday</td>\n",
              "    </tr>\n",
              "    <tr>\n",
              "      <th>1</th>\n",
              "      <td>4919</td>\n",
              "      <td>CA-2019-160304</td>\n",
              "      <td>2019-02-01</td>\n",
              "      <td>2019-01-07</td>\n",
              "      <td>Standard Class</td>\n",
              "      <td>BM-11575</td>\n",
              "      <td>Brendan Murry</td>\n",
              "      <td>Corporate</td>\n",
              "      <td>United States</td>\n",
              "      <td>Gaithersburg</td>\n",
              "      <td>...</td>\n",
              "      <td>57.98</td>\n",
              "      <td>3.0</td>\n",
              "      <td>173.94</td>\n",
              "      <td>135.6732</td>\n",
              "      <td>38.2668</td>\n",
              "      <td>0.0</td>\n",
              "      <td>Online</td>\n",
              "      <td>2019.0</td>\n",
              "      <td>2.0</td>\n",
              "      <td>Friday</td>\n",
              "    </tr>\n",
              "    <tr>\n",
              "      <th>2</th>\n",
              "      <td>4920</td>\n",
              "      <td>CA-2019-160304</td>\n",
              "      <td>2019-02-01</td>\n",
              "      <td>2019-01-07</td>\n",
              "      <td>Standard Class</td>\n",
              "      <td>BM-11575</td>\n",
              "      <td>Brendan Murry</td>\n",
              "      <td>Corporate</td>\n",
              "      <td>United States</td>\n",
              "      <td>Gaithersburg</td>\n",
              "      <td>...</td>\n",
              "      <td>115.99</td>\n",
              "      <td>2.0</td>\n",
              "      <td>231.98</td>\n",
              "      <td>164.7058</td>\n",
              "      <td>67.2742</td>\n",
              "      <td>0.0</td>\n",
              "      <td>Cards</td>\n",
              "      <td>2019.0</td>\n",
              "      <td>2.0</td>\n",
              "      <td>Friday</td>\n",
              "    </tr>\n",
              "    <tr>\n",
              "      <th>3</th>\n",
              "      <td>3074</td>\n",
              "      <td>CA-2019-125206</td>\n",
              "      <td>2019-03-01</td>\n",
              "      <td>2019-01-05</td>\n",
              "      <td>First Class</td>\n",
              "      <td>LR-16915</td>\n",
              "      <td>Lena Radford</td>\n",
              "      <td>Consumer</td>\n",
              "      <td>United States</td>\n",
              "      <td>Los Angeles</td>\n",
              "      <td>...</td>\n",
              "      <td>57.23</td>\n",
              "      <td>2.0</td>\n",
              "      <td>114.46</td>\n",
              "      <td>85.8450</td>\n",
              "      <td>28.6150</td>\n",
              "      <td>0.0</td>\n",
              "      <td>Online</td>\n",
              "      <td>2019.0</td>\n",
              "      <td>3.0</td>\n",
              "      <td>Friday</td>\n",
              "    </tr>\n",
              "    <tr>\n",
              "      <th>4</th>\n",
              "      <td>8604</td>\n",
              "      <td>US-2019-116365</td>\n",
              "      <td>2019-03-01</td>\n",
              "      <td>2019-01-08</td>\n",
              "      <td>Standard Class</td>\n",
              "      <td>CA-12310</td>\n",
              "      <td>Christine Abelman</td>\n",
              "      <td>Corporate</td>\n",
              "      <td>United States</td>\n",
              "      <td>San Antonio</td>\n",
              "      <td>...</td>\n",
              "      <td>15.04</td>\n",
              "      <td>2.0</td>\n",
              "      <td>30.08</td>\n",
              "      <td>35.3440</td>\n",
              "      <td>-5.2640</td>\n",
              "      <td>0.0</td>\n",
              "      <td>Online</td>\n",
              "      <td>2019.0</td>\n",
              "      <td>3.0</td>\n",
              "      <td>Friday</td>\n",
              "    </tr>\n",
              "  </tbody>\n",
              "</table>\n",
              "<p>5 rows × 26 columns</p>\n",
              "</div>\n",
              "    <div class=\"colab-df-buttons\">\n",
              "\n",
              "  <div class=\"colab-df-container\">\n",
              "    <button class=\"colab-df-convert\" onclick=\"convertToInteractive('df-38129fa3-3f1c-4721-b08a-813d0c1303b3')\"\n",
              "            title=\"Convert this dataframe to an interactive table.\"\n",
              "            style=\"display:none;\">\n",
              "\n",
              "  <svg xmlns=\"http://www.w3.org/2000/svg\" height=\"24px\" viewBox=\"0 -960 960 960\">\n",
              "    <path d=\"M120-120v-720h720v720H120Zm60-500h600v-160H180v160Zm220 220h160v-160H400v160Zm0 220h160v-160H400v160ZM180-400h160v-160H180v160Zm440 0h160v-160H620v160ZM180-180h160v-160H180v160Zm440 0h160v-160H620v160Z\"/>\n",
              "  </svg>\n",
              "    </button>\n",
              "\n",
              "  <style>\n",
              "    .colab-df-container {\n",
              "      display:flex;\n",
              "      gap: 12px;\n",
              "    }\n",
              "\n",
              "    .colab-df-convert {\n",
              "      background-color: #E8F0FE;\n",
              "      border: none;\n",
              "      border-radius: 50%;\n",
              "      cursor: pointer;\n",
              "      display: none;\n",
              "      fill: #1967D2;\n",
              "      height: 32px;\n",
              "      padding: 0 0 0 0;\n",
              "      width: 32px;\n",
              "    }\n",
              "\n",
              "    .colab-df-convert:hover {\n",
              "      background-color: #E2EBFA;\n",
              "      box-shadow: 0px 1px 2px rgba(60, 64, 67, 0.3), 0px 1px 3px 1px rgba(60, 64, 67, 0.15);\n",
              "      fill: #174EA6;\n",
              "    }\n",
              "\n",
              "    .colab-df-buttons div {\n",
              "      margin-bottom: 4px;\n",
              "    }\n",
              "\n",
              "    [theme=dark] .colab-df-convert {\n",
              "      background-color: #3B4455;\n",
              "      fill: #D2E3FC;\n",
              "    }\n",
              "\n",
              "    [theme=dark] .colab-df-convert:hover {\n",
              "      background-color: #434B5C;\n",
              "      box-shadow: 0px 1px 3px 1px rgba(0, 0, 0, 0.15);\n",
              "      filter: drop-shadow(0px 1px 2px rgba(0, 0, 0, 0.3));\n",
              "      fill: #FFFFFF;\n",
              "    }\n",
              "  </style>\n",
              "\n",
              "    <script>\n",
              "      const buttonEl =\n",
              "        document.querySelector('#df-38129fa3-3f1c-4721-b08a-813d0c1303b3 button.colab-df-convert');\n",
              "      buttonEl.style.display =\n",
              "        google.colab.kernel.accessAllowed ? 'block' : 'none';\n",
              "\n",
              "      async function convertToInteractive(key) {\n",
              "        const element = document.querySelector('#df-38129fa3-3f1c-4721-b08a-813d0c1303b3');\n",
              "        const dataTable =\n",
              "          await google.colab.kernel.invokeFunction('convertToInteractive',\n",
              "                                                    [key], {});\n",
              "        if (!dataTable) return;\n",
              "\n",
              "        const docLinkHtml = 'Like what you see? Visit the ' +\n",
              "          '<a target=\"_blank\" href=https://colab.research.google.com/notebooks/data_table.ipynb>data table notebook</a>'\n",
              "          + ' to learn more about interactive tables.';\n",
              "        element.innerHTML = '';\n",
              "        dataTable['output_type'] = 'display_data';\n",
              "        await google.colab.output.renderOutput(dataTable, element);\n",
              "        const docLink = document.createElement('div');\n",
              "        docLink.innerHTML = docLinkHtml;\n",
              "        element.appendChild(docLink);\n",
              "      }\n",
              "    </script>\n",
              "  </div>\n",
              "\n",
              "\n",
              "    <div id=\"df-5ad0e8f6-17cf-4bce-86a1-c8689977ce6a\">\n",
              "      <button class=\"colab-df-quickchart\" onclick=\"quickchart('df-5ad0e8f6-17cf-4bce-86a1-c8689977ce6a')\"\n",
              "                title=\"Suggest charts\"\n",
              "                style=\"display:none;\">\n",
              "\n",
              "<svg xmlns=\"http://www.w3.org/2000/svg\" height=\"24px\"viewBox=\"0 0 24 24\"\n",
              "     width=\"24px\">\n",
              "    <g>\n",
              "        <path d=\"M19 3H5c-1.1 0-2 .9-2 2v14c0 1.1.9 2 2 2h14c1.1 0 2-.9 2-2V5c0-1.1-.9-2-2-2zM9 17H7v-7h2v7zm4 0h-2V7h2v10zm4 0h-2v-4h2v4z\"/>\n",
              "    </g>\n",
              "</svg>\n",
              "      </button>\n",
              "\n",
              "<style>\n",
              "  .colab-df-quickchart {\n",
              "      --bg-color: #E8F0FE;\n",
              "      --fill-color: #1967D2;\n",
              "      --hover-bg-color: #E2EBFA;\n",
              "      --hover-fill-color: #174EA6;\n",
              "      --disabled-fill-color: #AAA;\n",
              "      --disabled-bg-color: #DDD;\n",
              "  }\n",
              "\n",
              "  [theme=dark] .colab-df-quickchart {\n",
              "      --bg-color: #3B4455;\n",
              "      --fill-color: #D2E3FC;\n",
              "      --hover-bg-color: #434B5C;\n",
              "      --hover-fill-color: #FFFFFF;\n",
              "      --disabled-bg-color: #3B4455;\n",
              "      --disabled-fill-color: #666;\n",
              "  }\n",
              "\n",
              "  .colab-df-quickchart {\n",
              "    background-color: var(--bg-color);\n",
              "    border: none;\n",
              "    border-radius: 50%;\n",
              "    cursor: pointer;\n",
              "    display: none;\n",
              "    fill: var(--fill-color);\n",
              "    height: 32px;\n",
              "    padding: 0;\n",
              "    width: 32px;\n",
              "  }\n",
              "\n",
              "  .colab-df-quickchart:hover {\n",
              "    background-color: var(--hover-bg-color);\n",
              "    box-shadow: 0 1px 2px rgba(60, 64, 67, 0.3), 0 1px 3px 1px rgba(60, 64, 67, 0.15);\n",
              "    fill: var(--button-hover-fill-color);\n",
              "  }\n",
              "\n",
              "  .colab-df-quickchart-complete:disabled,\n",
              "  .colab-df-quickchart-complete:disabled:hover {\n",
              "    background-color: var(--disabled-bg-color);\n",
              "    fill: var(--disabled-fill-color);\n",
              "    box-shadow: none;\n",
              "  }\n",
              "\n",
              "  .colab-df-spinner {\n",
              "    border: 2px solid var(--fill-color);\n",
              "    border-color: transparent;\n",
              "    border-bottom-color: var(--fill-color);\n",
              "    animation:\n",
              "      spin 1s steps(1) infinite;\n",
              "  }\n",
              "\n",
              "  @keyframes spin {\n",
              "    0% {\n",
              "      border-color: transparent;\n",
              "      border-bottom-color: var(--fill-color);\n",
              "      border-left-color: var(--fill-color);\n",
              "    }\n",
              "    20% {\n",
              "      border-color: transparent;\n",
              "      border-left-color: var(--fill-color);\n",
              "      border-top-color: var(--fill-color);\n",
              "    }\n",
              "    30% {\n",
              "      border-color: transparent;\n",
              "      border-left-color: var(--fill-color);\n",
              "      border-top-color: var(--fill-color);\n",
              "      border-right-color: var(--fill-color);\n",
              "    }\n",
              "    40% {\n",
              "      border-color: transparent;\n",
              "      border-right-color: var(--fill-color);\n",
              "      border-top-color: var(--fill-color);\n",
              "    }\n",
              "    60% {\n",
              "      border-color: transparent;\n",
              "      border-right-color: var(--fill-color);\n",
              "    }\n",
              "    80% {\n",
              "      border-color: transparent;\n",
              "      border-right-color: var(--fill-color);\n",
              "      border-bottom-color: var(--fill-color);\n",
              "    }\n",
              "    90% {\n",
              "      border-color: transparent;\n",
              "      border-bottom-color: var(--fill-color);\n",
              "    }\n",
              "  }\n",
              "</style>\n",
              "\n",
              "      <script>\n",
              "        async function quickchart(key) {\n",
              "          const quickchartButtonEl =\n",
              "            document.querySelector('#' + key + ' button');\n",
              "          quickchartButtonEl.disabled = true;  // To prevent multiple clicks.\n",
              "          quickchartButtonEl.classList.add('colab-df-spinner');\n",
              "          try {\n",
              "            const charts = await google.colab.kernel.invokeFunction(\n",
              "                'suggestCharts', [key], {});\n",
              "          } catch (error) {\n",
              "            console.error('Error during call to suggestCharts:', error);\n",
              "          }\n",
              "          quickchartButtonEl.classList.remove('colab-df-spinner');\n",
              "          quickchartButtonEl.classList.add('colab-df-quickchart-complete');\n",
              "        }\n",
              "        (() => {\n",
              "          let quickchartButtonEl =\n",
              "            document.querySelector('#df-5ad0e8f6-17cf-4bce-86a1-c8689977ce6a button');\n",
              "          quickchartButtonEl.style.display =\n",
              "            google.colab.kernel.accessAllowed ? 'block' : 'none';\n",
              "        })();\n",
              "      </script>\n",
              "    </div>\n",
              "\n",
              "    </div>\n",
              "  </div>\n"
            ],
            "application/vnd.google.colaboratory.intrinsic+json": {
              "type": "dataframe",
              "variable_name": "df"
            }
          },
          "metadata": {},
          "execution_count": 13
        }
      ],
      "source": [
        "import pandas as pd\n",
        "\n",
        "df = pd.read_excel('/content/SuperStore.xlsx')\n",
        "df.head()"
      ]
    },
    {
      "cell_type": "markdown",
      "source": [
        "# Pemeriksaan Nilai yang Hilang"
      ],
      "metadata": {
        "id": "qhmCjq2Ez78b"
      }
    },
    {
      "cell_type": "code",
      "source": [
        "#Memeriksa missing value menggunakan fungsi .isnull()\n",
        "missing_values = df.isnull().sum()\n",
        "print(missing_values)\n",
        "\n",
        "#Memeriksa missing value menggunakan fungsi .isna() sama seperti .isnull\n",
        "#Namun .isna digunakan untuk Data Frama pandas (NaN)\n",
        "null_values = df.isna().sum()\n",
        "print(null_values)\n",
        "\n",
        "# Memperoleh persentase Missing Value pada data\n",
        "missing_percentage = (df.isnull().sum() / len(df)) * 100\n",
        "missing_percentage"
      ],
      "metadata": {
        "colab": {
          "base_uri": "https://localhost:8080/",
          "height": 1000
        },
        "id": "PtEBfsK4zkcN",
        "outputId": "954a541c-fe24-419d-a011-04d3a4fc2fc4"
      },
      "execution_count": null,
      "outputs": [
        {
          "output_type": "stream",
          "name": "stdout",
          "text": [
            "row_id           0\n",
            "order_id         0\n",
            "order_date       0\n",
            "ship_date        0\n",
            "ship_mode        0\n",
            "customer_id      0\n",
            "customer_name    0\n",
            "segment          0\n",
            "country          0\n",
            "address_city     0\n",
            "address_state    0\n",
            "region           0\n",
            "product_id       0\n",
            "category         0\n",
            "sub_category     0\n",
            "product_name     0\n",
            "price            4\n",
            "quantity         4\n",
            "sales            4\n",
            "cost             4\n",
            "profit           4\n",
            "returns          4\n",
            "payment_mode     4\n",
            "year             4\n",
            "month            4\n",
            "day_name         4\n",
            "dtype: int64\n",
            "row_id           0\n",
            "order_id         0\n",
            "order_date       0\n",
            "ship_date        0\n",
            "ship_mode        0\n",
            "customer_id      0\n",
            "customer_name    0\n",
            "segment          0\n",
            "country          0\n",
            "address_city     0\n",
            "address_state    0\n",
            "region           0\n",
            "product_id       0\n",
            "category         0\n",
            "sub_category     0\n",
            "product_name     0\n",
            "price            4\n",
            "quantity         4\n",
            "sales            4\n",
            "cost             4\n",
            "profit           4\n",
            "returns          4\n",
            "payment_mode     4\n",
            "year             4\n",
            "month            4\n",
            "day_name         4\n",
            "dtype: int64\n"
          ]
        },
        {
          "output_type": "execute_result",
          "data": {
            "text/plain": [
              "row_id           0.000000\n",
              "order_id         0.000000\n",
              "order_date       0.000000\n",
              "ship_date        0.000000\n",
              "ship_mode        0.000000\n",
              "customer_id      0.000000\n",
              "customer_name    0.000000\n",
              "segment          0.000000\n",
              "country          0.000000\n",
              "address_city     0.000000\n",
              "address_state    0.000000\n",
              "region           0.000000\n",
              "product_id       0.000000\n",
              "category         0.000000\n",
              "sub_category     0.000000\n",
              "product_name     0.000000\n",
              "price            0.067785\n",
              "quantity         0.067785\n",
              "sales            0.067785\n",
              "cost             0.067785\n",
              "profit           0.067785\n",
              "returns          0.067785\n",
              "payment_mode     0.067785\n",
              "year             0.067785\n",
              "month            0.067785\n",
              "day_name         0.067785\n",
              "dtype: float64"
            ],
            "text/html": [
              "<div>\n",
              "<style scoped>\n",
              "    .dataframe tbody tr th:only-of-type {\n",
              "        vertical-align: middle;\n",
              "    }\n",
              "\n",
              "    .dataframe tbody tr th {\n",
              "        vertical-align: top;\n",
              "    }\n",
              "\n",
              "    .dataframe thead th {\n",
              "        text-align: right;\n",
              "    }\n",
              "</style>\n",
              "<table border=\"1\" class=\"dataframe\">\n",
              "  <thead>\n",
              "    <tr style=\"text-align: right;\">\n",
              "      <th></th>\n",
              "      <th>0</th>\n",
              "    </tr>\n",
              "  </thead>\n",
              "  <tbody>\n",
              "    <tr>\n",
              "      <th>row_id</th>\n",
              "      <td>0.000000</td>\n",
              "    </tr>\n",
              "    <tr>\n",
              "      <th>order_id</th>\n",
              "      <td>0.000000</td>\n",
              "    </tr>\n",
              "    <tr>\n",
              "      <th>order_date</th>\n",
              "      <td>0.000000</td>\n",
              "    </tr>\n",
              "    <tr>\n",
              "      <th>ship_date</th>\n",
              "      <td>0.000000</td>\n",
              "    </tr>\n",
              "    <tr>\n",
              "      <th>ship_mode</th>\n",
              "      <td>0.000000</td>\n",
              "    </tr>\n",
              "    <tr>\n",
              "      <th>customer_id</th>\n",
              "      <td>0.000000</td>\n",
              "    </tr>\n",
              "    <tr>\n",
              "      <th>customer_name</th>\n",
              "      <td>0.000000</td>\n",
              "    </tr>\n",
              "    <tr>\n",
              "      <th>segment</th>\n",
              "      <td>0.000000</td>\n",
              "    </tr>\n",
              "    <tr>\n",
              "      <th>country</th>\n",
              "      <td>0.000000</td>\n",
              "    </tr>\n",
              "    <tr>\n",
              "      <th>address_city</th>\n",
              "      <td>0.000000</td>\n",
              "    </tr>\n",
              "    <tr>\n",
              "      <th>address_state</th>\n",
              "      <td>0.000000</td>\n",
              "    </tr>\n",
              "    <tr>\n",
              "      <th>region</th>\n",
              "      <td>0.000000</td>\n",
              "    </tr>\n",
              "    <tr>\n",
              "      <th>product_id</th>\n",
              "      <td>0.000000</td>\n",
              "    </tr>\n",
              "    <tr>\n",
              "      <th>category</th>\n",
              "      <td>0.000000</td>\n",
              "    </tr>\n",
              "    <tr>\n",
              "      <th>sub_category</th>\n",
              "      <td>0.000000</td>\n",
              "    </tr>\n",
              "    <tr>\n",
              "      <th>product_name</th>\n",
              "      <td>0.000000</td>\n",
              "    </tr>\n",
              "    <tr>\n",
              "      <th>price</th>\n",
              "      <td>0.067785</td>\n",
              "    </tr>\n",
              "    <tr>\n",
              "      <th>quantity</th>\n",
              "      <td>0.067785</td>\n",
              "    </tr>\n",
              "    <tr>\n",
              "      <th>sales</th>\n",
              "      <td>0.067785</td>\n",
              "    </tr>\n",
              "    <tr>\n",
              "      <th>cost</th>\n",
              "      <td>0.067785</td>\n",
              "    </tr>\n",
              "    <tr>\n",
              "      <th>profit</th>\n",
              "      <td>0.067785</td>\n",
              "    </tr>\n",
              "    <tr>\n",
              "      <th>returns</th>\n",
              "      <td>0.067785</td>\n",
              "    </tr>\n",
              "    <tr>\n",
              "      <th>payment_mode</th>\n",
              "      <td>0.067785</td>\n",
              "    </tr>\n",
              "    <tr>\n",
              "      <th>year</th>\n",
              "      <td>0.067785</td>\n",
              "    </tr>\n",
              "    <tr>\n",
              "      <th>month</th>\n",
              "      <td>0.067785</td>\n",
              "    </tr>\n",
              "    <tr>\n",
              "      <th>day_name</th>\n",
              "      <td>0.067785</td>\n",
              "    </tr>\n",
              "  </tbody>\n",
              "</table>\n",
              "</div><br><label><b>dtype:</b> float64</label>"
            ]
          },
          "metadata": {},
          "execution_count": 14
        }
      ]
    },
    {
      "cell_type": "markdown",
      "source": [
        "# Eksplorisasi Tipe Data"
      ],
      "metadata": {
        "id": "iBzbeYql1URi"
      }
    },
    {
      "cell_type": "markdown",
      "source": [
        "Pengecekan Tipe Data"
      ],
      "metadata": {
        "id": "2KY-zJFv1afy"
      }
    },
    {
      "cell_type": "code",
      "source": [
        "# Memeriksa tipe data setiap kolom\n",
        "data_types = df.dtypes\n",
        "\n",
        "# Merancang Data Frame baru untuk menampilkan tipe data\n",
        "df_data_types = pd.DataFrame({'Column Name': data_types.index, 'Data Type': data_types.values})\n",
        "\n",
        "# Menampilkan tabel dengan nama kolom dan tipe data\n",
        "print(df_data_types)\n"
      ],
      "metadata": {
        "colab": {
          "base_uri": "https://localhost:8080/"
        },
        "id": "YqTPYtHE1N40",
        "outputId": "cd865eb4-dcfb-4afb-f85e-8de35c62d7a8"
      },
      "execution_count": null,
      "outputs": [
        {
          "output_type": "stream",
          "name": "stdout",
          "text": [
            "      Column Name       Data Type\n",
            "0          row_id           int64\n",
            "1        order_id          object\n",
            "2      order_date  datetime64[ns]\n",
            "3       ship_date  datetime64[ns]\n",
            "4       ship_mode          object\n",
            "5     customer_id          object\n",
            "6   customer_name          object\n",
            "7         segment          object\n",
            "8         country          object\n",
            "9    address_city          object\n",
            "10  address_state          object\n",
            "11         region          object\n",
            "12     product_id          object\n",
            "13       category          object\n",
            "14   sub_category          object\n",
            "15   product_name          object\n",
            "16          price         float64\n",
            "17       quantity         float64\n",
            "18          sales         float64\n",
            "19           cost         float64\n",
            "20         profit         float64\n",
            "21        returns         float64\n",
            "22   payment_mode          object\n",
            "23           year         float64\n",
            "24          month         float64\n",
            "25       day_name          object\n"
          ]
        }
      ]
    },
    {
      "cell_type": "markdown",
      "source": [
        "# Rumusan Masalah"
      ],
      "metadata": {
        "id": "71oyUNneJtqf"
      }
    },
    {
      "cell_type": "markdown",
      "source": [
        "1. Bagaimana pola dan tren penjualan berdasarkan kategori produk?\n",
        "\n",
        "2. Bagaimana keuntungan yang diperoleh dari tiap kategori produk?\n",
        "\n",
        "3. Bagaimana distribusi kuantitas produk yang terjual?\n",
        "\n",
        "4. Bagaimana hubungan antara sales, profit, dan quantity?\n",
        "\n",
        "5. Apakah terdapat outlier signifikan pada data profit?"
      ],
      "metadata": {
        "id": "a9F7VzANJyE_"
      }
    },
    {
      "cell_type": "markdown",
      "source": [
        "# Statistik Deskriptif"
      ],
      "metadata": {
        "id": "OQCztW2AplNz"
      }
    },
    {
      "cell_type": "markdown",
      "source": [
        "### Ukuran Pemusatan"
      ],
      "metadata": {
        "id": "ySOeq8NOczEQ"
      }
    },
    {
      "cell_type": "markdown",
      "source": [
        "#### Mean"
      ],
      "metadata": {
        "id": "8LaMPwcrc9iI"
      }
    },
    {
      "cell_type": "code",
      "source": [
        "# Mean (Rata-rata)\n",
        "mean_values = df[['price', 'quantity', 'sales', 'cost', 'profit']].mean()\n",
        "print(\"Mean (Rata-rata):\")\n",
        "print(mean_values)\n"
      ],
      "metadata": {
        "colab": {
          "base_uri": "https://localhost:8080/"
        },
        "id": "J7YFB-IKcwUr",
        "outputId": "00b67850-7abd-437d-91f6-acdf385d7688"
      },
      "execution_count": null,
      "outputs": [
        {
          "output_type": "stream",
          "name": "stdout",
          "text": [
            "Mean (Rata-rata):\n",
            "price        79.837705\n",
            "quantity      3.780566\n",
            "sales       265.275889\n",
            "cost        235.607939\n",
            "profit       29.667950\n",
            "dtype: float64\n"
          ]
        }
      ]
    },
    {
      "cell_type": "markdown",
      "source": [
        "#### Median"
      ],
      "metadata": {
        "id": "pX4UBVWzFJCe"
      }
    },
    {
      "cell_type": "code",
      "source": [
        "# Median\n",
        "median_values = df[['price', 'quantity', 'sales', 'cost', 'profit']].median()\n",
        "print(\"\\nMedian:\")\n",
        "print(median_values)\n"
      ],
      "metadata": {
        "id": "Vys0s1SGcwVs",
        "colab": {
          "base_uri": "https://localhost:8080/"
        },
        "outputId": "a152aba9-23b0-4281-8082-8bf65b9eb7bd"
      },
      "execution_count": null,
      "outputs": [
        {
          "output_type": "stream",
          "name": "stdout",
          "text": [
            "\n",
            "Median:\n",
            "price        42.242667\n",
            "quantity      3.000000\n",
            "sales       128.624000\n",
            "cost        118.588800\n",
            "profit        8.502000\n",
            "dtype: float64\n"
          ]
        }
      ]
    },
    {
      "cell_type": "markdown",
      "source": [
        "#### Modus"
      ],
      "metadata": {
        "id": "iZT75F6-FLR-"
      }
    },
    {
      "cell_type": "code",
      "source": [
        "# Modus\n",
        "mode_values = df[['price', 'quantity', 'sales', 'cost', 'profit']].mode().iloc[0]\n",
        "print(\"\\nModus:\")\n",
        "print(mode_values)\n"
      ],
      "metadata": {
        "id": "yW6-oWm9FrLl",
        "colab": {
          "base_uri": "https://localhost:8080/"
        },
        "outputId": "c509aa8b-a9a4-435f-e0a9-13467742bfb0"
      },
      "execution_count": null,
      "outputs": [
        {
          "output_type": "stream",
          "name": "stdout",
          "text": [
            "\n",
            "Modus:\n",
            "price        6.4800\n",
            "quantity     2.0000\n",
            "sales       12.9600\n",
            "cost         6.7392\n",
            "profit       0.0000\n",
            "Name: 0, dtype: float64\n"
          ]
        }
      ]
    },
    {
      "cell_type": "markdown",
      "source": [
        "### Ukuran Penyebaran"
      ],
      "metadata": {
        "id": "L-khRsT9FPVM"
      }
    },
    {
      "cell_type": "markdown",
      "source": [
        "#### Range"
      ],
      "metadata": {
        "id": "wdpc2UwvF1q1"
      }
    },
    {
      "cell_type": "code",
      "source": [
        "range_values = df[['price', 'quantity', 'sales', 'cost', 'profit']].max() - df[['price', 'quantity', 'sales', 'cost', 'profit']].min()\n",
        "print(\"Range (Rentang) per Kolom:\")\n",
        "print(range_values)\n"
      ],
      "metadata": {
        "id": "PQg5DVjTF7Nk",
        "colab": {
          "base_uri": "https://localhost:8080/"
        },
        "outputId": "c67830f2-8135-4cfe-ba9f-b49661762ca4"
      },
      "execution_count": null,
      "outputs": [
        {
          "output_type": "stream",
          "name": "stdout",
          "text": [
            "Range (Rentang) per Kolom:\n",
            "price        3269.648\n",
            "quantity       13.000\n",
            "sales        9099.094\n",
            "cost        18999.989\n",
            "profit      14999.954\n",
            "dtype: float64\n"
          ]
        }
      ]
    },
    {
      "cell_type": "markdown",
      "source": [
        "#### Variansi"
      ],
      "metadata": {
        "id": "irsqFBMSF8HM"
      }
    },
    {
      "cell_type": "code",
      "source": [
        "variance_values = df[['price', 'quantity', 'sales', 'cost', 'profit']].var()\n",
        "print(\"\\nVariance (Variansi) per Kolom:\")\n",
        "print(variance_values)\n"
      ],
      "metadata": {
        "id": "TrfnI7hQF-4M",
        "colab": {
          "base_uri": "https://localhost:8080/"
        },
        "outputId": "bf3a905d-8f8d-464e-d8ba-93ad914870fb"
      },
      "execution_count": null,
      "outputs": [
        {
          "output_type": "stream",
          "name": "stdout",
          "text": [
            "\n",
            "Variance (Variansi) per Kolom:\n",
            "price        17515.976935\n",
            "quantity         4.896549\n",
            "sales       225065.605023\n",
            "cost        212199.779945\n",
            "profit       67430.491592\n",
            "dtype: float64\n"
          ]
        }
      ]
    },
    {
      "cell_type": "markdown",
      "source": [
        "#### Standar Deviasi"
      ],
      "metadata": {
        "id": "bjHzdtXxGAbM"
      }
    },
    {
      "cell_type": "code",
      "source": [
        "std_dev_values = df[['price', 'quantity', 'sales', 'cost', 'profit']].std()\n",
        "print(\"\\nStandard Deviation (Standar Deviasi) per Kolom:\")\n",
        "print(std_dev_values)\n"
      ],
      "metadata": {
        "id": "JZrF2-76GCqm",
        "colab": {
          "base_uri": "https://localhost:8080/"
        },
        "outputId": "5d20eb96-05e9-4f78-f93e-f01e74564e10"
      },
      "execution_count": null,
      "outputs": [
        {
          "output_type": "stream",
          "name": "stdout",
          "text": [
            "\n",
            "Standard Deviation (Standar Deviasi) per Kolom:\n",
            "price       132.347939\n",
            "quantity      2.212815\n",
            "sales       474.410798\n",
            "cost        460.651473\n",
            "profit      259.673818\n",
            "dtype: float64\n"
          ]
        }
      ]
    },
    {
      "cell_type": "markdown",
      "source": [
        "#### Inter Quartile Range (IQR)"
      ],
      "metadata": {
        "id": "ihi9AXb8GF6F"
      }
    },
    {
      "cell_type": "code",
      "source": [
        "Q3 = df[['price', 'quantity', 'sales', 'cost', 'profit']].quantile(0.75)\n",
        "Q1 = df[['price', 'quantity', 'sales', 'cost', 'profit']].quantile(0.25)\n",
        "iqr_values = Q3 - Q1\n",
        "print(\"\\nInterquartile Range (IQR) per Kolom:\")\n",
        "print(iqr_values)\n"
      ],
      "metadata": {
        "id": "P1qG6wKiGHB9",
        "colab": {
          "base_uri": "https://localhost:8080/"
        },
        "outputId": "332ca881-e87c-4f6d-878f-c1d79cd28438"
      },
      "execution_count": null,
      "outputs": [
        {
          "output_type": "stream",
          "name": "stdout",
          "text": [
            "\n",
            "Interquartile Range (IQR) per Kolom:\n",
            "price        78.5620\n",
            "quantity      3.0000\n",
            "sales       192.2040\n",
            "cost        179.2184\n",
            "profit       26.6424\n",
            "dtype: float64\n"
          ]
        }
      ]
    },
    {
      "cell_type": "markdown",
      "source": [
        "### Distribusi Data"
      ],
      "metadata": {
        "id": "GRSBg4M1GJys"
      }
    },
    {
      "cell_type": "markdown",
      "source": [
        "#### Skewness"
      ],
      "metadata": {
        "id": "WZ0y23kmGM08"
      }
    },
    {
      "cell_type": "code",
      "source": [
        "skewness_values = df[['price', 'quantity', 'sales', 'cost', 'profit']].skew()\n",
        "print(\"Skewness (Kemencengan) per Kolom:\")\n",
        "print(skewness_values)"
      ],
      "metadata": {
        "id": "s69AuBsdGO2N",
        "colab": {
          "base_uri": "https://localhost:8080/"
        },
        "outputId": "e8da257c-b41a-4bb2-a96b-3d460e493464"
      },
      "execution_count": null,
      "outputs": [
        {
          "output_type": "stream",
          "name": "stdout",
          "text": [
            "Skewness (Kemencengan) per Kolom:\n",
            "price       7.395656\n",
            "quantity    1.218580\n",
            "sales       5.947880\n",
            "cost        5.781475\n",
            "profit      8.431533\n",
            "dtype: float64\n"
          ]
        }
      ]
    },
    {
      "cell_type": "markdown",
      "source": [
        "#### Kurtosis"
      ],
      "metadata": {
        "id": "rtyekn0ZGRBb"
      }
    },
    {
      "cell_type": "code",
      "source": [
        "kurtosis_values = df[['price', 'quantity', 'sales', 'cost', 'profit']].kurtosis()\n",
        "print(\"\\nKurtosis (Keruncingan) per Kolom:\")\n",
        "print(kurtosis_values)"
      ],
      "metadata": {
        "id": "iNr-Uju4GSCM",
        "colab": {
          "base_uri": "https://localhost:8080/"
        },
        "outputId": "b9d76088-8d08-4614-a886-1abcca13c1eb"
      },
      "execution_count": null,
      "outputs": [
        {
          "output_type": "stream",
          "name": "stdout",
          "text": [
            "\n",
            "Kurtosis (Keruncingan) per Kolom:\n",
            "price       103.765628\n",
            "quantity      1.760029\n",
            "sales        54.714534\n",
            "cost        108.238203\n",
            "profit      409.883722\n",
            "dtype: float64\n"
          ]
        }
      ]
    },
    {
      "cell_type": "markdown",
      "source": [
        "# Data Manipulation"
      ],
      "metadata": {
        "id": "EUVutj3RplkO"
      }
    },
    {
      "cell_type": "markdown",
      "source": [
        "## Data Cleaning"
      ],
      "metadata": {
        "id": "kzF7dJ3ZqEFX"
      }
    },
    {
      "cell_type": "markdown",
      "source": [
        "#### Data dengan Na & NaN"
      ],
      "metadata": {
        "id": "TPBnX2pjGcsd"
      }
    },
    {
      "cell_type": "markdown",
      "source": [
        "1. Imputasi Missing Value"
      ],
      "metadata": {
        "id": "Sg1zwFDYGhQb"
      }
    },
    {
      "cell_type": "code",
      "source": [
        "# Cek missing value dulu\n",
        "print(\"Missing values awal:\\n\", df.isnull().sum())\n",
        "\n",
        "# Imputasi kolom numerik dengan median\n",
        "num_cols = ['price', 'quantity', 'sales', 'cost', 'profit', 'returns', 'year', 'month']\n",
        "for col in num_cols:\n",
        "    median_val = df[col].median()\n",
        "    df[col].fillna(median_val, inplace=True)\n",
        "\n",
        "# Imputasi kolom kategorikal dengan modus\n",
        "cat_cols = ['payment_mode', 'day_name']\n",
        "for col in cat_cols:\n",
        "    mode_val = df[col].mode()[0]\n",
        "    df[col].fillna(mode_val, inplace=True)\n",
        "\n",
        "\n",
        "print(\"\\nMissing values setelah imputasi:\\n\", df.isnull().sum())"
      ],
      "metadata": {
        "colab": {
          "base_uri": "https://localhost:8080/"
        },
        "id": "wpO-F3QbFk0L",
        "outputId": "fcc047b5-f6b1-4b69-ddee-6ddb42085ac0"
      },
      "execution_count": null,
      "outputs": [
        {
          "output_type": "stream",
          "name": "stdout",
          "text": [
            "Missing values awal:\n",
            " row_id           0\n",
            "order_id         0\n",
            "order_date       0\n",
            "ship_date        0\n",
            "ship_mode        0\n",
            "customer_id      0\n",
            "customer_name    0\n",
            "segment          0\n",
            "country          0\n",
            "address_city     0\n",
            "address_state    0\n",
            "region           0\n",
            "product_id       0\n",
            "category         0\n",
            "sub_category     0\n",
            "product_name     0\n",
            "price            0\n",
            "quantity         0\n",
            "sales            0\n",
            "cost             0\n",
            "profit           0\n",
            "returns          0\n",
            "payment_mode     0\n",
            "year             0\n",
            "month            0\n",
            "day_name         0\n",
            "dtype: int64\n",
            "\n",
            "Missing values setelah imputasi:\n",
            " row_id           0\n",
            "order_id         0\n",
            "order_date       0\n",
            "ship_date        0\n",
            "ship_mode        0\n",
            "customer_id      0\n",
            "customer_name    0\n",
            "segment          0\n",
            "country          0\n",
            "address_city     0\n",
            "address_state    0\n",
            "region           0\n",
            "product_id       0\n",
            "category         0\n",
            "sub_category     0\n",
            "product_name     0\n",
            "price            0\n",
            "quantity         0\n",
            "sales            0\n",
            "cost             0\n",
            "profit           0\n",
            "returns          0\n",
            "payment_mode     0\n",
            "year             0\n",
            "month            0\n",
            "day_name         0\n",
            "dtype: int64\n"
          ]
        },
        {
          "output_type": "stream",
          "name": "stderr",
          "text": [
            "<ipython-input-31-831305804a8b>:8: FutureWarning: A value is trying to be set on a copy of a DataFrame or Series through chained assignment using an inplace method.\n",
            "The behavior will change in pandas 3.0. This inplace method will never work because the intermediate object on which we are setting values always behaves as a copy.\n",
            "\n",
            "For example, when doing 'df[col].method(value, inplace=True)', try using 'df.method({col: value}, inplace=True)' or df[col] = df[col].method(value) instead, to perform the operation inplace on the original object.\n",
            "\n",
            "\n",
            "  df[col].fillna(median_val, inplace=True)\n"
          ]
        }
      ]
    },
    {
      "cell_type": "markdown",
      "source": [
        "2. Menghapus Missing Value"
      ],
      "metadata": {
        "id": "f5oWSWx9G8xj"
      }
    },
    {
      "cell_type": "code",
      "source": [
        "df_dropped = df.dropna()\n",
        "print(f\"Data setelah hapus missing value, jumlah baris: {len(df_dropped)}\")"
      ],
      "metadata": {
        "id": "2qPdD-SgHCGM",
        "colab": {
          "base_uri": "https://localhost:8080/"
        },
        "outputId": "be521045-39dd-4544-8ba1-3cf45a9a330b"
      },
      "execution_count": null,
      "outputs": [
        {
          "output_type": "stream",
          "name": "stdout",
          "text": [
            "Data setelah hapus missing value, jumlah baris: 5901\n"
          ]
        }
      ]
    },
    {
      "cell_type": "markdown",
      "source": [
        "#### Data dengan Duplikat"
      ],
      "metadata": {
        "id": "RT_tyQ2rHChE"
      }
    },
    {
      "cell_type": "code",
      "source": [
        "# Cek jumlah data duplikat\n",
        "dup_count = df.duplicated().sum()\n",
        "print(f\"Jumlah data duplikat: {dup_count}\")\n",
        "\n",
        "# Hapus duplikat\n",
        "df = df.drop_duplicates()\n",
        "print(f\"Data setelah hapus duplikat, jumlah baris: {len(df)}\")"
      ],
      "metadata": {
        "id": "_e5hp6UdHFUc",
        "colab": {
          "base_uri": "https://localhost:8080/"
        },
        "outputId": "c274ceab-66d9-4ed6-9be8-346027ca8276"
      },
      "execution_count": null,
      "outputs": [
        {
          "output_type": "stream",
          "name": "stdout",
          "text": [
            "Jumlah data duplikat: 0\n",
            "Data setelah hapus duplikat, jumlah baris: 5901\n"
          ]
        }
      ]
    },
    {
      "cell_type": "markdown",
      "source": [
        "#### Data dengan Inkonsistensi"
      ],
      "metadata": {
        "id": "F38kvYnbHKKu"
      }
    },
    {
      "cell_type": "code",
      "source": [
        "cols_positive = ['price', 'quantity', 'sales', 'cost']\n",
        "\n",
        "for col in cols_positive:\n",
        "    neg_count = (df[col] < 0).sum()\n",
        "    print(f\"Jumlah nilai negatif di kolom '{col}': {neg_count}\")\n",
        "\n",
        "# Buang baris dengan nilai negatif pada kolom tsb\n",
        "df = df[(df['price'] >= 0) & (df['quantity'] >= 0) & (df['sales'] >= 0) & (df['cost'] >= 0)]\n",
        "print(f\"Data setelah buang nilai negatif: {len(df)}\")\n"
      ],
      "metadata": {
        "id": "oUtlRedLHLUl",
        "colab": {
          "base_uri": "https://localhost:8080/"
        },
        "outputId": "49ff1f48-96eb-4b4e-e9cf-8f28171009c4"
      },
      "execution_count": null,
      "outputs": [
        {
          "output_type": "stream",
          "name": "stdout",
          "text": [
            "Jumlah nilai negatif di kolom 'price': 0\n",
            "Jumlah nilai negatif di kolom 'quantity': 0\n",
            "Jumlah nilai negatif di kolom 'sales': 0\n",
            "Jumlah nilai negatif di kolom 'cost': 14\n",
            "Data setelah buang nilai negatif: 5887\n"
          ]
        }
      ]
    },
    {
      "cell_type": "markdown",
      "source": [
        "#### Pemeriksaan Outlier"
      ],
      "metadata": {
        "id": "yXOxPJrbHR0s"
      }
    },
    {
      "cell_type": "code",
      "source": [
        "def cek_outlier_iqr(data, kolom):\n",
        "    Q1 = data[kolom].quantile(0.25)\n",
        "    Q3 = data[kolom].quantile(0.75)\n",
        "    IQR = Q3 - Q1\n",
        "    batas_bawah = Q1 - 1.5 * IQR\n",
        "    batas_atas = Q3 + 1.5 * IQR\n",
        "\n",
        "    outlier = data[(data[kolom] < batas_bawah) | (data[kolom] > batas_atas)]\n",
        "    print(f\"Outlier pada kolom '{kolom}': {len(outlier)}\")\n",
        "    return outlier\n",
        "\n",
        "for col in ['price', 'quantity', 'sales', 'profit']:\n",
        "    cek_outlier_iqr(df, col)"
      ],
      "metadata": {
        "id": "mlzd_kUWHSxu",
        "colab": {
          "base_uri": "https://localhost:8080/"
        },
        "outputId": "dc846482-832f-413b-fe6f-08cb89e17ebe"
      },
      "execution_count": null,
      "outputs": [
        {
          "output_type": "stream",
          "name": "stdout",
          "text": [
            "Outlier pada kolom 'price': 463\n",
            "Outlier pada kolom 'quantity': 86\n",
            "Outlier pada kolom 'sales': 633\n",
            "Outlier pada kolom 'profit': 1118\n"
          ]
        }
      ]
    },
    {
      "cell_type": "markdown",
      "source": [
        "## Data Transformation"
      ],
      "metadata": {
        "id": "HgvQdgJjqG1o"
      }
    },
    {
      "cell_type": "markdown",
      "source": [
        "#### Aggregation"
      ],
      "metadata": {
        "id": "MLWWjYWNHUpk"
      }
    },
    {
      "cell_type": "markdown",
      "source": [
        "per kategori produk"
      ],
      "metadata": {
        "id": "5M88RyBnGXph"
      }
    },
    {
      "cell_type": "code",
      "source": [
        "# Aggregation per kategori produk\n",
        "agg_category = df.groupby('category').agg({\n",
        "    'sales': 'sum',\n",
        "    'profit': 'sum',\n",
        "    'quantity': 'mean'\n",
        "}).reset_index()\n",
        "\n",
        "print(agg_category)\n"
      ],
      "metadata": {
        "id": "RJZBNcAeHYf8",
        "colab": {
          "base_uri": "https://localhost:8080/"
        },
        "outputId": "b167abea-6479-4610-b704-da46e38e6436"
      },
      "execution_count": null,
      "outputs": [
        {
          "output_type": "stream",
          "name": "stdout",
          "text": [
            "          category        sales      profit  quantity\n",
            "0        Furniture  451352.9552   9594.0718  3.705128\n",
            "1  Office Supplies  640684.4070  68795.0335  3.813236\n",
            "2       Technology  461889.2150  67285.2507  3.735322\n"
          ]
        }
      ]
    },
    {
      "cell_type": "markdown",
      "source": [
        " per customer"
      ],
      "metadata": {
        "id": "nJO8onokGauH"
      }
    },
    {
      "cell_type": "code",
      "source": [
        "agg_customer = df.groupby('customer_id').agg({\n",
        "    'sales': 'sum',\n",
        "    'profit': 'sum',\n",
        "    'quantity': 'sum'\n",
        "}).reset_index()\n",
        "\n",
        "print(agg_customer.head())\n"
      ],
      "metadata": {
        "colab": {
          "base_uri": "https://localhost:8080/"
        },
        "id": "c3VQQtbtGV-g",
        "outputId": "bc954986-f120-42c0-a9c5-c8ba15a44f81"
      },
      "execution_count": null,
      "outputs": [
        {
          "output_type": "stream",
          "name": "stdout",
          "text": [
            "  customer_id     sales    profit  quantity\n",
            "0    AA-10315  4919.552 -650.5971      19.0\n",
            "1    AA-10375  2015.020  191.6403      20.0\n",
            "2    AA-10480  1862.052  425.9418      34.0\n",
            "3    AA-10645  1757.145  340.8478      34.0\n",
            "4    AB-10015   563.940  116.8680       4.0\n"
          ]
        }
      ]
    },
    {
      "cell_type": "markdown",
      "source": [
        "#### Normalization"
      ],
      "metadata": {
        "id": "BpiKpKVvHalE"
      }
    },
    {
      "cell_type": "markdown",
      "source": [
        "Min-Max Scaling agar nilainya berada antara 0 dan 1:\n"
      ],
      "metadata": {
        "id": "rEKggxCVGhp2"
      }
    },
    {
      "cell_type": "code",
      "source": [
        "from sklearn.preprocessing import MinMaxScaler\n",
        "\n",
        "scaler = MinMaxScaler()\n",
        "\n",
        "cols_to_normalize = ['sales', 'profit']\n",
        "\n",
        "df[cols_to_normalize] = scaler.fit_transform(df[cols_to_normalize])\n",
        "\n",
        "print(df[cols_to_normalize].head())\n"
      ],
      "metadata": {
        "id": "FTcKS6VMuh1q",
        "colab": {
          "base_uri": "https://localhost:8080/"
        },
        "outputId": "eea7ab62-1762-44f5-e337-0710008f1c98"
      },
      "execution_count": null,
      "outputs": [
        {
          "output_type": "stream",
          "name": "stdout",
          "text": [
            "      sales    profit\n",
            "0  0.008034  0.569439\n",
            "1  0.019024  0.570298\n",
            "2  0.025403  0.572790\n",
            "3  0.012487  0.569469\n",
            "4  0.003214  0.566558\n"
          ]
        }
      ]
    },
    {
      "cell_type": "markdown",
      "source": [
        " Normalisasi Z-Score (Standarisasi) menggunakan mean dan standar deviasi:"
      ],
      "metadata": {
        "id": "XaQoGJgTGvB3"
      }
    },
    {
      "cell_type": "code",
      "source": [
        "from sklearn.preprocessing import StandardScaler\n",
        "\n",
        "scaler = StandardScaler()\n",
        "\n",
        "df[cols_to_normalize] = scaler.fit_transform(df[cols_to_normalize])\n",
        "\n",
        "print(df[cols_to_normalize].head())\n"
      ],
      "metadata": {
        "colab": {
          "base_uri": "https://localhost:8080/"
        },
        "id": "myf6UFmbGwdo",
        "outputId": "a0735d4d-6aac-4a6e-8b17-6a21b5c34688"
      },
      "execution_count": null,
      "outputs": [
        {
          "output_type": "stream",
          "name": "stdout",
          "text": [
            "      sales    profit\n",
            "0 -0.403462  0.017440\n",
            "1 -0.191135  0.066960\n",
            "2 -0.067900  0.210605\n",
            "3 -0.317427  0.019164\n",
            "4 -0.496589 -0.148606\n"
          ]
        }
      ]
    },
    {
      "cell_type": "markdown",
      "source": [
        "# Data Visualization"
      ],
      "metadata": {
        "id": "ltwSQw7_p0SM"
      }
    },
    {
      "cell_type": "markdown",
      "source": [
        "# 1. Pola dan Tren Penjualan per Kategori Produk"
      ],
      "metadata": {
        "id": "DZpStoffHyJw"
      }
    },
    {
      "cell_type": "code",
      "source": [
        "plt.figure(figsize=(10,5))\n",
        "sns.barplot(data=agg_category, x='category', y='sales', palette='Blues_d')\n",
        "plt.title('Total Penjualan (Sales) per Kategori Produk')\n",
        "plt.xlabel('Kategori Produk')\n",
        "plt.ylabel('Total Penjualan')\n",
        "plt.show()\n"
      ],
      "metadata": {
        "id": "7zDsDKjNuifV",
        "colab": {
          "base_uri": "https://localhost:8080/",
          "height": 603
        },
        "outputId": "a09828df-11d7-46dc-fd9e-e2010eed41c2"
      },
      "execution_count": null,
      "outputs": [
        {
          "output_type": "stream",
          "name": "stderr",
          "text": [
            "<ipython-input-50-9132042ec2c6>:2: FutureWarning: \n",
            "\n",
            "Passing `palette` without assigning `hue` is deprecated and will be removed in v0.14.0. Assign the `x` variable to `hue` and set `legend=False` for the same effect.\n",
            "\n",
            "  sns.barplot(data=agg_category, x='category', y='sales', palette='Blues_d')\n"
          ]
        },
        {
          "output_type": "display_data",
          "data": {
            "text/plain": [
              "<Figure size 1000x500 with 1 Axes>"
            ],
            "image/png": "[encoded data removed]"
          },
          "metadata": {}
        }
      ]
    },
    {
      "cell_type": "markdown",
      "source": [
        "Interpretasi: Grafik menunjukkan bahwa kategori Office Supplies mendominasi total penjualan, diikuti oleh Furniture dan Technology, mengindikasikan bahwa produk Office Supplies merupakan pilar utama dalam kontribusi penjualan SuperStore."
      ],
      "metadata": {
        "id": "O_kmlA_UIWy_"
      }
    },
    {
      "cell_type": "markdown",
      "source": [
        "# 2. Keuntungan per Kategori Produk"
      ],
      "metadata": {
        "id": "Bmkhf9qqKRdn"
      }
    },
    {
      "cell_type": "code",
      "source": [
        "plt.figure(figsize=(10,5))\n",
        "sns.barplot(data=agg_category, x='category', y='profit', palette='Greens_d')\n",
        "plt.title('Total Keuntungan (Profit) per Kategori Produk')\n",
        "plt.xlabel('Kategori Produk')\n",
        "plt.ylabel('Total Keuntungan')\n",
        "plt.show()\n"
      ],
      "metadata": {
        "colab": {
          "base_uri": "https://localhost:8080/",
          "height": 603
        },
        "id": "EswRJm3VIPo4",
        "outputId": "c0c2eafb-4f38-4290-9f27-7cb27b783d55"
      },
      "execution_count": null,
      "outputs": [
        {
          "output_type": "stream",
          "name": "stderr",
          "text": [
            "<ipython-input-51-d15d4b451092>:2: FutureWarning: \n",
            "\n",
            "Passing `palette` without assigning `hue` is deprecated and will be removed in v0.14.0. Assign the `x` variable to `hue` and set `legend=False` for the same effect.\n",
            "\n",
            "  sns.barplot(data=agg_category, x='category', y='profit', palette='Greens_d')\n"
          ]
        },
        {
          "output_type": "display_data",
          "data": {
            "text/plain": [
              "<Figure size 1000x500 with 1 Axes>"
            ],
            "image/png": "[encoded data removed]"
          },
          "metadata": {}
        }
      ]
    },
    {
      "cell_type": "markdown",
      "source": [
        "Interpretasi: Meskipun kategori Office Supplies menghasilkan keuntungan terbesar dan Technology berada tepat di belakangnya, Furniture menunjukkan margin keuntungan yang lebih kecil dibanding total penjualan, menandakan perlunya evaluasi strategi harga dan efisiensi biaya pada kategori tersebut."
      ],
      "metadata": {
        "id": "IggUNLGnujFq"
      }
    },
    {
      "cell_type": "markdown",
      "source": [
        "# 3. Distribusi Kuantitas Produk Terjual"
      ],
      "metadata": {
        "id": "GojtyzTMIxhm"
      }
    },
    {
      "cell_type": "code",
      "source": [
        "plt.figure(figsize=(10,5))\n",
        "sns.histplot(df['quantity'], bins=30, kde=True, color='purple')\n",
        "plt.title('Distribusi Kuantitas Produk Terjual')\n",
        "plt.xlabel('Kuantitas')\n",
        "plt.ylabel('Frekuensi')\n",
        "plt.show()\n"
      ],
      "metadata": {
        "colab": {
          "base_uri": "https://localhost:8080/",
          "height": 496
        },
        "id": "trk3QuBiI2j3",
        "outputId": "8e9523e8-a44f-40b0-bb51-29cc63ddf8f7"
      },
      "execution_count": null,
      "outputs": [
        {
          "output_type": "display_data",
          "data": {
            "text/plain": [
              "<Figure size 1000x500 with 1 Axes>"
            ],
            "image/png": "[encoded data removed]"
          },
          "metadata": {}
        }
      ]
    },
    {
      "cell_type": "markdown",
      "source": [
        "Interpretasi:\n",
        "Sebagian besar transaksi melibatkan kuantitas kecil, kebanyakan 1-5 unit per transaksi. Distribusi ini menunjukkan transaksi dengan jumlah besar sangat jarang, yang bisa menjadi perhatian untuk strategi penjualan."
      ],
      "metadata": {
        "id": "uyMgU4cSI8In"
      }
    },
    {
      "cell_type": "markdown",
      "source": [
        "# 4. Hubungan Sales, Profit, dan Quantity"
      ],
      "metadata": {
        "id": "xmverGnWI9ax"
      }
    },
    {
      "cell_type": "code",
      "source": [
        "plt.figure(figsize=(10,6))\n",
        "sns.scatterplot(data=df, x='sales', y='profit', hue='category', alpha=0.6)\n",
        "plt.title('Hubungan Sales vs Profit per Kategori Produk')\n",
        "plt.xlabel('Sales')\n",
        "plt.ylabel('Profit')\n",
        "plt.legend(title='Kategori')\n",
        "plt.show()\n"
      ],
      "metadata": {
        "colab": {
          "base_uri": "https://localhost:8080/",
          "height": 573
        },
        "id": "BDMrBIUYJAfW",
        "outputId": "d1b23419-5116-448f-fd1b-908e15078bca"
      },
      "execution_count": null,
      "outputs": [
        {
          "output_type": "display_data",
          "data": {
            "text/plain": [
              "<Figure size 1000x600 with 1 Axes>"
            ],
            "image/png": "[encoded data removed]"
          },
          "metadata": {}
        }
      ]
    },
    {
      "cell_type": "markdown",
      "source": [
        "Interpretasi:\n",
        "Terlihat bahwa semakin besar nilai penjualan (sales), umumnya keuntungan (profit) juga semakin tinggi, namun ada beberapa transaksi dengan penjualan besar tapi profit rendah atau negatif, yang perlu dianalisis lebih lanjut. Warna menunjukkan kategori, dengan Technology yang cenderung mendominasi area penjualan dan profit tinggi."
      ],
      "metadata": {
        "id": "k0wYxO6hJDtw"
      }
    },
    {
      "cell_type": "markdown",
      "source": [
        "# 5. Pemeriksaan Outlier pada Profit"
      ],
      "metadata": {
        "id": "NLWy6VebJNo3"
      }
    },
    {
      "cell_type": "code",
      "source": [
        "plt.figure(figsize=(10,5))\n",
        "sns.boxplot(x=df['profit'])\n",
        "plt.title('Pemeriksaan Outlier pada Data Profit')\n",
        "plt.xlabel('Profit')\n",
        "plt.show()\n"
      ],
      "metadata": {
        "colab": {
          "base_uri": "https://localhost:8080/",
          "height": 496
        },
        "id": "1lOqyVTVJKu_",
        "outputId": "505d1a69-db14-45c5-8c5b-e226d41f47aa"
      },
      "execution_count": null,
      "outputs": [
        {
          "output_type": "display_data",
          "data": {
            "text/plain": [
              "<Figure size 1000x500 with 1 Axes>"
            ],
            "image/png": "[encoded data removed]"
          },
          "metadata": {}
        }
      ]
    },
    {
      "cell_type": "markdown",
      "source": [
        "Interpretasi:\n",
        "Boxplot menunjukkan adanya beberapa nilai profit ekstrim, baik positif maupun negatif, yang dapat dianggap outlier. Hal ini penting untuk diteliti karena outlier bisa mempengaruhi analisis statistik dan keputusan bisnis, serta bisa menunjukkan transaksi khusus atau kesalahan data."
      ],
      "metadata": {
        "id": "oIlVgkciJRNP"
      }
    },
    {
      "cell_type": "markdown",
      "source": [
        "#II. Pengumpulan\n",
        "Download google colab ini dalam format .ipynb\n",
        "Lalu kumpulkan di link pada PPT"
      ],
      "metadata": {
        "id": "TCmXkQquvNII"
      }
    }
  ]
}